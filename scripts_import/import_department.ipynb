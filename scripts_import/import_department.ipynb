{
 "cells": [
  {
   "cell_type": "code",
   "execution_count": 14,
   "metadata": {
    "collapsed": false
   },
   "outputs": [
    {
     "data": {
      "text/plain": [
       "<pymongo.results.InsertManyResult at 0x288a680daf8>"
      ]
     },
     "execution_count": 14,
     "metadata": {},
     "output_type": "execute_result"
    }
   ],
   "source": [
    "from pymongo import MongoClient\n",
    "import requests\n",
    "\n",
    "def toInt(s):\n",
    "    try: \n",
    "        return int(s)\n",
    "    except ValueError:\n",
    "        return s\n",
    "\n",
    "def getDictFromText(url,id):\n",
    "    r = requests.get(url, 'r')\n",
    "    dataArray = [line.split('\\t') for line in r.text.splitlines()]\n",
    "    colArray = dataArray.pop(0)\n",
    "    result={toInt(data[id]) : {col : toInt(data[idx]) for idx, col in enumerate(colArray)}for data in dataArray}\n",
    "    return result\n",
    "\n",
    "def getListFromText(url):\n",
    "    r = requests.get(url, 'r')\n",
    "    dataArray = [line.split('\\t') for line in r.text.splitlines()]\n",
    "    colArray = dataArray.pop(0)\n",
    "    result=[{col : toInt(data[idx]) for idx, col in enumerate(colArray)}for data in dataArray]\n",
    "    return result\n",
    "\n",
    "client = MongoClient('ec2-52-211-76-129.eu-west-1.compute.amazonaws.com',27017)\n",
    "db = client.wax_dfg\n",
    "db.departement.drop()\n",
    "urlRegion= 'http://www.insee.fr/fr/methodes/nomenclatures/cog/telechargement/2016/txt/reg2016.txt'\n",
    "dictRegion = getDictFromText(urlRegion,0)\n",
    "\n",
    "urlDpt= 'http://www.insee.fr/fr/methodes/nomenclatures/cog/telechargement/2016/txt/depts2016.txt'\n",
    "listDpt = getListFromText(urlDpt)\n",
    "for dpt in listDpt:\n",
    "    dpt['REGION'] = dictRegion[dpt['REGION']]\n",
    "    if dpt['DEP'] == '2A':\n",
    "        dpt['DEP'] = 20\n",
    "db.departement.insert_many(listDpt)\n",
    "\n"
   ]
  },
  {
   "cell_type": "code",
   "execution_count": null,
   "metadata": {
    "collapsed": true
   },
   "outputs": [],
   "source": []
  }
 ],
 "metadata": {
  "anaconda-cloud": {},
  "kernelspec": {
   "display_name": "Python [conda root]",
   "language": "python",
   "name": "conda-root-py"
  },
  "language_info": {
   "codemirror_mode": {
    "name": "ipython",
    "version": 3
   },
   "file_extension": ".py",
   "mimetype": "text/x-python",
   "name": "python",
   "nbconvert_exporter": "python",
   "pygments_lexer": "ipython3",
   "version": "3.5.2"
  }
 },
 "nbformat": 4,
 "nbformat_minor": 1
}
