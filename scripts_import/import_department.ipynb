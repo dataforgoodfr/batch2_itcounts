{
 "cells": [
  {
   "cell_type": "code",
   "execution_count": 54,
   "metadata": {
    "collapsed": false
   },
   "outputs": [
    {
     "data": {
      "text/plain": [
       "<pymongo.results.InsertManyResult at 0x2472eb82480>"
      ]
     },
     "execution_count": 54,
     "metadata": {},
     "output_type": "execute_result"
    }
   ],
   "source": [
    "from pymongo import MongoClient\n",
    "import requests\n",
    "import zipfile\n",
    "from io import BytesIO\n",
    "\n",
    "def toInt(s):\n",
    "    try: \n",
    "        return int(s)\n",
    "    except ValueError:\n",
    "        return s\n",
    "\n",
    "def getDictFromText(url,id):\n",
    "    r = unzip(url)\n",
    "    dataArray = [line.split('\\t') for line in r.splitlines()]\n",
    "    colArray = dataArray.pop(0)\n",
    "    result={data[id] : {col : data[idx] for idx, col in enumerate(colArray)}for data in dataArray}\n",
    "    return result\n",
    "\n",
    "def getListFromText(url):\n",
    "    r = unzip(url)\n",
    "    dataArray = [line.split('\\t') for line in r.splitlines()]\n",
    "    colArray = dataArray.pop(0)\n",
    "    result=[{col : data[idx] for idx, col in enumerate(colArray)}for data in dataArray]\n",
    "    return result\n",
    "\n",
    "def unzip (url):\n",
    "    request = requests.get(url, 'r')\n",
    "    myzip = zipfile.ZipFile(BytesIO(request.content))\n",
    "    for name in myzip.namelist():\n",
    "        return myzip.read(name).decode('unicode_escape') \n",
    "\n",
    "client = MongoClient('ec2-52-211-76-129.eu-west-1.compute.amazonaws.com',27017)\n",
    "db = client.wax_dfg\n",
    "db.departement.drop()\n",
    "urlRegion= 'https://www.insee.fr/fr/statistiques/fichier/2114819/reg2016-txt.zip'\n",
    "dictRegion = getDictFromText(urlRegion,0)\n",
    "\n",
    "urlDpt= 'https://www.insee.fr/fr/statistiques/fichier/2114819/depts2016-txt.zip'\n",
    "listDpt = getListFromText(urlDpt)\n",
    "for dpt in listDpt:\n",
    "    dpt['REGION'] = dictRegion[dpt['REGION']]\n",
    "db.departement.insert_many(listDpt)\n",
    "\n"
   ]
  }
 ],
 "metadata": {
  "anaconda-cloud": {},
  "kernelspec": {
   "display_name": "Python [conda root]",
   "language": "python",
   "name": "conda-root-py"
  },
  "language_info": {
   "codemirror_mode": {
    "name": "ipython",
    "version": 3
   },
   "file_extension": ".py",
   "mimetype": "text/x-python",
   "name": "python",
   "nbconvert_exporter": "python",
   "pygments_lexer": "ipython3",
   "version": "3.5.2"
  }
 },
 "nbformat": 4,
 "nbformat_minor": 1
}
