{
 "cells": [
  {
   "cell_type": "code",
   "execution_count": 6,
   "metadata": {
    "collapsed": false
   },
   "outputs": [],
   "source": [
    "from pymongo import MongoClient\n",
    "import requests\n",
    "\n",
    "client = MongoClient('ec2-52-211-76-129.eu-west-1.compute.amazonaws.com',27017)\n",
    "db = client.wax_dfg\n",
    "deputes_db = db.deputes\n",
    "\n",
    "deputes_enmandat_from_api = requests.get('https://www.nosdeputes.fr/deputes/enmandat/json')\n",
    "deputes_enmandat_json = deputes_enmandat_from_api.json()\n",
    "deputes_db.drop()\n",
    "for depute in deputes_enmandat_json['deputes']:   \n",
    "        url_depute_json = depute['depute']['url_nosdeputes_api']\n",
    "        depute_from_api = requests.get(url_depute_json)\n",
    "        depute_json = depute_from_api.json()\n",
    "        departement = db.departement.find({'DEP':depute_json['depute']['num_circo']})\n",
    "        depute_json['depute']['region'] ={'num': departement[0]['REGION']['REGION'], 'nom':departement[0]['REGION']['NCCENR']}\n",
    "        depute_json['depute']['date_naissance'] = int(depute_json['depute']['date_naissance'].replace('-',''))\n",
    "        deputes_db.insert_one(depute_json['depute'])"
   ]
  },
  {
   "cell_type": "code",
   "execution_count": null,
   "metadata": {
    "collapsed": true
   },
   "outputs": [],
   "source": []
  }
 ],
 "metadata": {
  "anaconda-cloud": {},
  "kernelspec": {
   "display_name": "Python [default]",
   "language": "python",
   "name": "python3"
  },
  "language_info": {
   "codemirror_mode": {
    "name": "ipython",
    "version": 3
   },
   "file_extension": ".py",
   "mimetype": "text/x-python",
   "name": "python",
   "nbconvert_exporter": "python",
   "pygments_lexer": "ipython3",
   "version": "3.5.2"
  }
 },
 "nbformat": 4,
 "nbformat_minor": 1
}
