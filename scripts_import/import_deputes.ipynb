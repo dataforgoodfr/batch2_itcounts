{
 "cells": [
  {
   "cell_type": "code",
   "execution_count": 4,
   "metadata": {
    "collapsed": false
   },
   "outputs": [],
   "source": [
    "from pymongo import MongoClient\n",
    "import requests\n",
    "import datetime\n",
    "\n",
    "client = MongoClient('ec2-52-211-76-129.eu-west-1.compute.amazonaws.com',27017)\n",
    "db = client.wax_dfg\n",
    "deputes_db = db.deputes"
   ]
  },
  {
   "cell_type": "code",
   "execution_count": 5,
   "metadata": {
    "collapsed": true
   },
   "outputs": [],
   "source": [
    "deputes_enmandat_from_api = requests.get('https://www.nosdeputes.fr/deputes/enmandat/json')\n",
    "deputes_enmandat_json = deputes_enmandat_from_api.json()\n",
    "deputes_db.drop()"
   ]
  },
  {
   "cell_type": "code",
   "execution_count": 6,
   "metadata": {
    "collapsed": true
   },
   "outputs": [],
   "source": [
    "for depute in deputes_enmandat_json['deputes']:   \n",
    "        url_depute_json = depute['depute']['url_nosdeputes_api']\n",
    "        depute_from_api = requests.get(url_depute_json)\n",
    "        depute_json = depute_from_api.json()\n",
    "        departement = db.departement.find({'DEP':depute_json['depute']['num_circo']})\n",
    "        depute_json['depute']['region'] ={'num': departement[0]['REGION']['REGION'], 'nom':departement[0]['REGION']['NCCENR']}\n",
    "        depute_json['depute']['date_naissance'] = datetime.datetime.strptime(depute_json['depute']['date_naissance'], '%Y-%m-%d')\n",
    "        deputes_db.insert_one(depute_json['depute'])"
   ]
  },
  {
   "cell_type": "code",
   "execution_count": null,
   "metadata": {
    "collapsed": true
   },
   "outputs": [],
   "source": []
  }
 ],
 "metadata": {
  "anaconda-cloud": {},
  "kernelspec": {
   "display_name": "Python [default]",
   "language": "python",
   "name": "python3"
  },
  "language_info": {
   "codemirror_mode": {
    "name": "ipython",
    "version": 3
   },
   "file_extension": ".py",
   "mimetype": "text/x-python",
   "name": "python",
   "nbconvert_exporter": "python",
   "pygments_lexer": "ipython3",
   "version": "3.5.2"
  }
 },
 "nbformat": 4,
 "nbformat_minor": 1
}
